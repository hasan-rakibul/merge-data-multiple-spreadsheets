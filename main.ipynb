{
 "cells": [
  {
   "cell_type": "code",
   "execution_count": 28,
   "metadata": {},
   "outputs": [],
   "source": [
    "import openpyxl\n",
    "import os\n",
    "import pandas as pd"
   ]
  },
  {
   "cell_type": "code",
   "execution_count": 78,
   "metadata": {},
   "outputs": [
    {
     "name": "stdout",
     "output_type": "stream",
     "text": [
      "['G07.xlsx', 'G08.xlsx', 'G09.xlsx', 'G10.xlsx', 'G11.xlsx', 'G12.xlsx', 'G13.xlsx', 'G14.xlsx', 'G15.xlsx', 'G16.xlsx', 'G17.xlsx', 'G18.xlsx', 'G19.xlsx', 'G20.xlsx', 'G21.xlsx', 'G22.xlsx', 'G23.xlsx']\n"
     ]
    }
   ],
   "source": [
    "path='./ATC-CO-files/' # folders where the ATC CO files are placed\n",
    "filenames=sorted(os.listdir(path))\n",
    "print(filenames)"
   ]
  },
  {
   "cell_type": "code",
   "execution_count": 104,
   "metadata": {},
   "outputs": [
    {
     "name": "stdout",
     "output_type": "stream",
     "text": [
      "Currently reading: G07.xlsx\n",
      "Currently reading: G08.xlsx\n",
      "Currently reading: G09.xlsx\n",
      "Currently reading: G10.xlsx\n",
      "Currently reading: G11.xlsx\n",
      "Currently reading: G12.xlsx\n",
      "Currently reading: G13.xlsx\n",
      "Currently reading: G14.xlsx\n",
      "Currently reading: G15.xlsx\n",
      "Currently reading: G16.xlsx\n",
      "Currently reading: G17.xlsx\n",
      "Currently reading: G18.xlsx\n",
      "Currently reading: G19.xlsx\n",
      "Currently reading: G20.xlsx\n",
      "Currently reading: G21.xlsx\n",
      "Currently reading: G22.xlsx\n",
      "Currently reading: G23.xlsx\n"
     ]
    }
   ],
   "source": [
    "CO5_df=pd.DataFrame()\n",
    "CO6_df=pd.DataFrame()\n",
    "CO9_df=pd.DataFrame()\n",
    "CO10_df=pd.DataFrame()\n",
    "CO11_df=pd.DataFrame()\n",
    "CO13_df=pd.DataFrame()\n",
    "CO14_df=pd.DataFrame()\n",
    "CO15_df=pd.DataFrame()\n",
    "name_id_df=pd.DataFrame()\n",
    "project_title=pd.DataFrame()\n",
    "observation_recommendation_df=pd.DataFrame()\n",
    "\n",
    "for file in filenames:\n",
    "    print('Currently reading: '+file)\n",
    "    workbook=openpyxl.load_workbook(filename=path+file, data_only=True) #data_only needs to be true to get the value not the formula\n",
    "\n",
    "    CO5=workbook['Rubrics-CO5']\n",
    "    CO5_data=CO5['C8':'F11']\n",
    "    \n",
    "    CO6=workbook['Rubrics-CO6']\n",
    "    CO6_data=CO6['C8':'E11']\n",
    "    \n",
    "    CO9=workbook['Rubrics-CO9']\n",
    "    CO9_data=CO9['C8':'D11']\n",
    "    \n",
    "    CO10=workbook['Rubrics-CO10']\n",
    "    CO10_data=CO10['C8':'D11']\n",
    "    \n",
    "    CO11=workbook['Rubrics-CO11']\n",
    "    CO11_data=CO11['C9':'H12']  # start from row 9 in CO11\n",
    "    \n",
    "    CO13=workbook[' Rubrics-CO13'] #has an additional space in the sheet name of the template!\n",
    "    CO13_data=CO13['C8':'E11']\n",
    "    \n",
    "    CO14=workbook[' Rubrics-CO14']\n",
    "    CO14_data=CO14['C9':'H12']\n",
    "    \n",
    "    CO15=workbook['Rubrics-CO15']\n",
    "    CO15_data=CO15['C8':'F11']\n",
    "\n",
    "    course_info=workbook['Course Info']\n",
    "    name_id_data=course_info['I4':'J7']\n",
    "    \n",
    "    project_data=course_info['D3'].value\n",
    "    \n",
    "    recommendation_sheet=workbook['Recommendations']\n",
    "    \n",
    "    observation_recommendation_df=pd.concat([observation_recommendation_df, pd.DataFrame(data={'Observation': recommendation_sheet['A3'].value, 'Recommendation': recommendation_sheet['A17'].value}, index=[file])])\n",
    "\n",
    "    for C, D, E, F in CO5_data: # C, D, E, F refers to the column names for which data needs to read\n",
    "        CO5_df=pd.concat([CO5_df,pd.DataFrame(data={'C': C.value,'D': D.value,'E': E.value,'F': F.value}, index=[file])])\n",
    "    \n",
    "    for C, D, E in CO6_data:        \n",
    "        CO6_df=pd.concat([CO6_df,pd.DataFrame(data={'C': C.value,'D': D.value,'E': E.value}, index=[file])])\n",
    "\n",
    "    for C, D in CO9_data:        \n",
    "        CO9_df=pd.concat([CO9_df,pd.DataFrame(data={'C': C.value,'D': D.value}, index=[file])])\n",
    "\n",
    "    for C, D in CO10_data:        \n",
    "        CO10_df=pd.concat([CO10_df,pd.DataFrame(data={'C': C.value,'D': D.value}, index=[file])])\n",
    "    \n",
    "    for C, D, E, F, G, H in CO11_data:        \n",
    "        CO11_df=pd.concat([CO11_df,pd.DataFrame(data={'C': C.value,'D': D.value,'E': E.value,'F': F.value, 'G': G.value, 'H': H.value}, index=[file])])\n",
    "\n",
    "    for C, D, E in CO13_data:        \n",
    "        CO13_df=pd.concat([CO13_df,pd.DataFrame(data={'C': C.value,'D': D.value,'E': E.value}, index=[file])])\n",
    "\n",
    "    for C, D, E, F, G, H in CO14_data:        \n",
    "        CO14_df=pd.concat([CO14_df,pd.DataFrame(data={'C': C.value,'D': D.value,'E': E.value,'F': F.value, 'G': G.value, 'H': H.value}, index=[file])])\n",
    "\n",
    "    for C, D, E, F in CO15_data:        \n",
    "        CO15_df=pd.concat([CO15_df,pd.DataFrame(data={'C': C.value,'D': D.value,'E': E.value,'F': F.value}, index=[file])])\n",
    "\n",
    "    for I, J in name_id_data:        \n",
    "        name_id_df=pd.concat([name_id_df,pd.DataFrame(data={'ID': I.value,'Name': J.value}, index=[file])])\n",
    "\n"
   ]
  },
  {
   "cell_type": "code",
   "execution_count": 106,
   "metadata": {},
   "outputs": [],
   "source": [
    "with pd.ExcelWriter('all-data_merged.xlsx') as writer:\n",
    "    CO5_df.to_excel(writer, sheet_name='Rubrics-CO5')\n",
    "    CO6_df.to_excel(writer, sheet_name='Rubrics-CO6')\n",
    "    CO9_df.to_excel(writer, sheet_name='Rubrics-CO9')\n",
    "    CO10_df.to_excel(writer, sheet_name='Rubrics-CO10')\n",
    "    CO11_df.to_excel(writer, sheet_name='Rubrics-CO11')\n",
    "    CO13_df.to_excel(writer, sheet_name='Rubrics-CO13')\n",
    "    CO14_df.to_excel(writer, sheet_name='Rubrics-CO14')\n",
    "    CO15_df.to_excel(writer, sheet_name='Rubrics-CO15')\n",
    "    name_id_df.to_excel(writer, sheet_name='name-id')\n",
    "    observation_recommendation_df.to_excel(writer, sheet_name='Reccommendations')"
   ]
  },
  {
   "cell_type": "code",
   "execution_count": null,
   "metadata": {},
   "outputs": [],
   "source": []
  }
 ],
 "metadata": {
  "kernelspec": {
   "display_name": "Python 3.9.7 ('base')",
   "language": "python",
   "name": "python3"
  },
  "language_info": {
   "codemirror_mode": {
    "name": "ipython",
    "version": 3
   },
   "file_extension": ".py",
   "mimetype": "text/x-python",
   "name": "python",
   "nbconvert_exporter": "python",
   "pygments_lexer": "ipython3",
   "version": "3.9.7"
  },
  "orig_nbformat": 4,
  "vscode": {
   "interpreter": {
    "hash": "84781a0997196326a100d485a3943186a70ee4c03c77588141b3035b7e6e8e93"
   }
  }
 },
 "nbformat": 4,
 "nbformat_minor": 2
}
